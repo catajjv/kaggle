{
 "cells": [
  {
   "cell_type": "code",
   "execution_count": 1,
   "metadata": {},
   "outputs": [
    {
     "name": "stderr",
     "output_type": "stream",
     "text": [
      "C:\\Users\\cataj\\Anaconda3\\lib\\site-packages\\pandas\\compat\\_optional.py:138: UserWarning: Pandas requires version '2.7.0' or newer of 'numexpr' (version '2.6.9' currently installed).\n",
      "  warnings.warn(msg, UserWarning)\n"
     ]
    }
   ],
   "source": [
    "import tensorflow as tf\n",
    "from tensorflow import keras\n",
    "from tensorflow.keras import layers, callbacks\n",
    "from sklearn.model_selection import train_test_split\n",
    "from sklearn.pipeline import make_pipeline\n",
    "from sklearn.preprocessing import StandardScaler\n",
    "from matplotlib import pyplot as plt \n",
    "from sklearn.preprocessing import OrdinalEncoder\n",
    "\n",
    "import numpy as np \n",
    "import pandas as pd \n"
   ]
  },
  {
   "cell_type": "code",
   "execution_count": 2,
   "metadata": {},
   "outputs": [],
   "source": [
    "df_train = pd.read_csv('train.csv')\n",
    "df_test = pd.read_csv('test.csv')\n",
    "df_sub = pd.read_csv('sample_submission.csv')"
   ]
  },
  {
   "cell_type": "code",
   "execution_count": 3,
   "metadata": {},
   "outputs": [
    {
     "data": {
      "text/plain": [
       "(707, 11)"
      ]
     },
     "execution_count": 3,
     "metadata": {},
     "output_type": "execute_result"
    }
   ],
   "source": [
    "enc = OrdinalEncoder()\n",
    "y = enc.fit_transform(df_train[['prognosis']])\n",
    "y = tf.keras.utils.to_categorical(y)\n",
    "y.shape"
   ]
  },
  {
   "cell_type": "code",
   "execution_count": 4,
   "metadata": {},
   "outputs": [],
   "source": [
    "X = df_train.drop(['prognosis'],axis=1) "
   ]
  },
  {
   "cell_type": "code",
   "execution_count": 5,
   "metadata": {},
   "outputs": [],
   "source": [
    "X_train, X_test, y_train, y_test = train_test_split(X, y,shuffle=True, test_size=0.3)"
   ]
  },
  {
   "cell_type": "code",
   "execution_count": 6,
   "metadata": {},
   "outputs": [
    {
     "name": "stdout",
     "output_type": "stream",
     "text": [
      "Epoch 1/50\n",
      "13/13 [==============================] - 2s 47ms/step - loss: 90.6799 - accuracy: 0.1038 - val_loss: 22.6961 - val_accuracy: 0.0808\n",
      "Epoch 2/50\n",
      "13/13 [==============================] - 0s 9ms/step - loss: 74.9978 - accuracy: 0.0962 - val_loss: 9.9130 - val_accuracy: 0.0909\n",
      "Epoch 3/50\n",
      "13/13 [==============================] - 0s 9ms/step - loss: 59.1638 - accuracy: 0.0734 - val_loss: 7.0851 - val_accuracy: 0.0707\n",
      "Epoch 4/50\n",
      "13/13 [==============================] - 0s 11ms/step - loss: 47.9520 - accuracy: 0.0962 - val_loss: 4.9343 - val_accuracy: 0.0606\n",
      "Epoch 5/50\n",
      "13/13 [==============================] - 0s 9ms/step - loss: 35.5126 - accuracy: 0.1089 - val_loss: 6.3407 - val_accuracy: 0.0707\n",
      "Epoch 6/50\n",
      "13/13 [==============================] - 0s 10ms/step - loss: 29.6062 - accuracy: 0.0937 - val_loss: 5.2704 - val_accuracy: 0.0808\n",
      "Epoch 7/50\n",
      "13/13 [==============================] - 0s 9ms/step - loss: 23.0287 - accuracy: 0.0810 - val_loss: 4.3397 - val_accuracy: 0.0808\n",
      "Epoch 8/50\n",
      "13/13 [==============================] - 0s 9ms/step - loss: 17.6143 - accuracy: 0.1013 - val_loss: 3.0131 - val_accuracy: 0.0808\n",
      "Epoch 9/50\n",
      "13/13 [==============================] - 0s 9ms/step - loss: 14.6307 - accuracy: 0.0937 - val_loss: 2.4595 - val_accuracy: 0.0808\n",
      "Epoch 10/50\n",
      "13/13 [==============================] - 0s 9ms/step - loss: 12.1483 - accuracy: 0.0937 - val_loss: 2.4015 - val_accuracy: 0.0505\n",
      "Epoch 11/50\n",
      "13/13 [==============================] - 0s 8ms/step - loss: 8.2153 - accuracy: 0.0937 - val_loss: 2.4013 - val_accuracy: 0.0606\n",
      "Epoch 12/50\n",
      "13/13 [==============================] - 0s 8ms/step - loss: 6.8534 - accuracy: 0.0734 - val_loss: 2.4011 - val_accuracy: 0.0606\n",
      "Epoch 13/50\n",
      "13/13 [==============================] - 0s 9ms/step - loss: 6.0229 - accuracy: 0.0937 - val_loss: 2.4007 - val_accuracy: 0.0606\n",
      "Epoch 14/50\n",
      "13/13 [==============================] - 0s 8ms/step - loss: 6.0915 - accuracy: 0.1013 - val_loss: 2.4003 - val_accuracy: 0.0606\n",
      "Epoch 15/50\n",
      "13/13 [==============================] - 0s 8ms/step - loss: 5.0915 - accuracy: 0.0835 - val_loss: 2.3996 - val_accuracy: 0.0606\n",
      "Epoch 16/50\n",
      "13/13 [==============================] - 0s 9ms/step - loss: 3.9318 - accuracy: 0.1165 - val_loss: 2.3991 - val_accuracy: 0.0606\n",
      "Epoch 17/50\n",
      "13/13 [==============================] - 0s 9ms/step - loss: 3.9318 - accuracy: 0.0759 - val_loss: 2.3984 - val_accuracy: 0.0606\n",
      "Epoch 18/50\n",
      "13/13 [==============================] - 0s 8ms/step - loss: 3.6667 - accuracy: 0.0886 - val_loss: 2.3977 - val_accuracy: 0.0707\n",
      "Epoch 19/50\n",
      "13/13 [==============================] - 0s 8ms/step - loss: 3.5170 - accuracy: 0.0810 - val_loss: 2.3972 - val_accuracy: 0.0707\n",
      "Epoch 20/50\n",
      "13/13 [==============================] - 0s 8ms/step - loss: 3.3394 - accuracy: 0.1063 - val_loss: 2.3966 - val_accuracy: 0.0707\n",
      "Epoch 21/50\n",
      "13/13 [==============================] - 0s 8ms/step - loss: 3.4898 - accuracy: 0.0861 - val_loss: 2.3961 - val_accuracy: 0.0707\n",
      "Epoch 22/50\n",
      "13/13 [==============================] - 0s 8ms/step - loss: 3.3230 - accuracy: 0.0810 - val_loss: 2.3954 - val_accuracy: 0.0707\n",
      "Epoch 23/50\n",
      "13/13 [==============================] - 0s 8ms/step - loss: 3.0546 - accuracy: 0.0886 - val_loss: 2.3951 - val_accuracy: 0.0707\n",
      "Epoch 24/50\n",
      "13/13 [==============================] - 0s 7ms/step - loss: 3.1402 - accuracy: 0.0861 - val_loss: 2.3940 - val_accuracy: 0.0707\n",
      "Epoch 25/50\n",
      "13/13 [==============================] - 0s 10ms/step - loss: 2.8182 - accuracy: 0.1038 - val_loss: 2.3931 - val_accuracy: 0.0707\n",
      "Epoch 26/50\n",
      "13/13 [==============================] - 0s 8ms/step - loss: 2.9698 - accuracy: 0.0684 - val_loss: 2.3918 - val_accuracy: 0.0707\n",
      "Epoch 27/50\n",
      "13/13 [==============================] - 0s 8ms/step - loss: 2.7619 - accuracy: 0.0810 - val_loss: 2.3914 - val_accuracy: 0.0707\n",
      "Epoch 28/50\n",
      "13/13 [==============================] - 0s 8ms/step - loss: 2.7940 - accuracy: 0.0962 - val_loss: 2.3907 - val_accuracy: 0.0606\n",
      "Epoch 29/50\n",
      "13/13 [==============================] - 0s 8ms/step - loss: 2.9472 - accuracy: 0.1063 - val_loss: 2.3902 - val_accuracy: 0.1616\n",
      "Epoch 30/50\n",
      "13/13 [==============================] - 0s 8ms/step - loss: 2.6817 - accuracy: 0.1089 - val_loss: 2.3902 - val_accuracy: 0.1616\n",
      "Epoch 31/50\n",
      "13/13 [==============================] - 0s 10ms/step - loss: 2.6800 - accuracy: 0.1089 - val_loss: 2.3901 - val_accuracy: 0.1616\n",
      "Epoch 32/50\n",
      "13/13 [==============================] - 0s 7ms/step - loss: 2.6828 - accuracy: 0.1241 - val_loss: 2.3898 - val_accuracy: 0.1616\n",
      "Epoch 33/50\n",
      "13/13 [==============================] - 0s 8ms/step - loss: 2.4768 - accuracy: 0.1114 - val_loss: 2.3891 - val_accuracy: 0.1313\n",
      "Epoch 34/50\n",
      "13/13 [==============================] - 0s 9ms/step - loss: 2.8250 - accuracy: 0.1139 - val_loss: 2.3880 - val_accuracy: 0.1313\n",
      "Epoch 35/50\n",
      "13/13 [==============================] - 0s 7ms/step - loss: 2.6270 - accuracy: 0.1291 - val_loss: 2.3868 - val_accuracy: 0.1313\n",
      "Epoch 36/50\n",
      "13/13 [==============================] - 0s 9ms/step - loss: 2.6230 - accuracy: 0.1215 - val_loss: 2.3862 - val_accuracy: 0.1313\n",
      "Epoch 37/50\n",
      "13/13 [==============================] - 0s 8ms/step - loss: 2.5786 - accuracy: 0.1316 - val_loss: 2.3856 - val_accuracy: 0.1313\n",
      "Epoch 38/50\n",
      "13/13 [==============================] - 0s 7ms/step - loss: 2.5695 - accuracy: 0.1114 - val_loss: 2.3849 - val_accuracy: 0.1313\n",
      "Epoch 39/50\n",
      "13/13 [==============================] - 0s 7ms/step - loss: 2.6096 - accuracy: 0.1266 - val_loss: 2.3840 - val_accuracy: 0.1313\n",
      "Epoch 40/50\n",
      "13/13 [==============================] - 0s 8ms/step - loss: 2.5237 - accuracy: 0.1241 - val_loss: 2.3836 - val_accuracy: 0.1313\n",
      "Epoch 41/50\n",
      "13/13 [==============================] - 0s 8ms/step - loss: 2.8224 - accuracy: 0.1266 - val_loss: 2.3832 - val_accuracy: 0.1313\n",
      "Epoch 42/50\n",
      "13/13 [==============================] - 0s 8ms/step - loss: 2.5588 - accuracy: 0.1291 - val_loss: 2.3829 - val_accuracy: 0.1313\n",
      "Epoch 43/50\n",
      "13/13 [==============================] - 0s 8ms/step - loss: 2.4824 - accuracy: 0.1291 - val_loss: 2.3821 - val_accuracy: 0.1313\n",
      "Epoch 44/50\n",
      "13/13 [==============================] - 0s 7ms/step - loss: 2.5778 - accuracy: 0.1190 - val_loss: 2.3816 - val_accuracy: 0.1313\n",
      "Epoch 45/50\n",
      "13/13 [==============================] - 0s 9ms/step - loss: 2.4608 - accuracy: 0.1215 - val_loss: 2.3812 - val_accuracy: 0.1313\n",
      "Epoch 46/50\n",
      "13/13 [==============================] - 0s 7ms/step - loss: 2.5084 - accuracy: 0.1241 - val_loss: 2.3807 - val_accuracy: 0.1313\n",
      "Epoch 47/50\n",
      "13/13 [==============================] - 0s 8ms/step - loss: 2.6258 - accuracy: 0.1266 - val_loss: 2.3804 - val_accuracy: 0.1313\n",
      "Epoch 48/50\n",
      "13/13 [==============================] - 0s 7ms/step - loss: 2.5548 - accuracy: 0.1241 - val_loss: 2.3801 - val_accuracy: 0.1313\n",
      "Epoch 49/50\n",
      "13/13 [==============================] - 0s 8ms/step - loss: 2.4955 - accuracy: 0.1291 - val_loss: 2.3799 - val_accuracy: 0.1313\n",
      "Epoch 50/50\n",
      "13/13 [==============================] - 0s 8ms/step - loss: 2.5308 - accuracy: 0.1165 - val_loss: 2.3797 - val_accuracy: 0.1313\n"
     ]
    }
   ],
   "source": [
    "from tensorflow.keras.models import Sequential\n",
    "from tensorflow.keras.layers import Dense, Dropout\n",
    "from tensorflow.keras.callbacks import EarlyStopping\n",
    "\n",
    "\n",
    "classes = ['Lyme_disease', 'Tungiasis', 'Zika', 'Rift_Valley_fever', 'West_Nile_fever', 'Malaria', 'Chikungunya', 'Plague', 'Dengue', 'Yellow_Fever', 'Japanese_encephalitis']\n",
    "\n",
    "#  model\n",
    "model = Sequential()\n",
    "model.add(Dense(64, activation='relu', input_dim=X_train.shape[1]))\n",
    "model.add(Dropout(0.5))\n",
    "model.add(Dense(32, activation='relu'))\n",
    "model.add(Dropout(0.5))\n",
    "model.add(Dense(len(classes), activation='softmax'))\n",
    "\n",
    "model.compile(loss='categorical_crossentropy', optimizer='adam', metrics=['accuracy'])\n",
    "\n",
    "#early stopping\n",
    "early_stop = EarlyStopping(monitor='val_loss', patience=5)\n",
    "\n",
    "# train the model\n",
    "model.fit(X_train, y_train, epochs=50, batch_size=32, validation_split=0.2, callbacks=[early_stop])\n",
    "\n",
    "# predict probabilities\n",
    "probs = model.predict(df_test)\n",
    "\n"
   ]
  },
  {
   "cell_type": "code",
   "execution_count": 7,
   "metadata": {},
   "outputs": [],
   "source": [
    "# top 3 prediction for each sample\n",
    "\n",
    "top3 = []\n",
    "for prob in probs:\n",
    "    indices = prob.argsort()[-3:][::-1]\n",
    "    top3.append(indices)\n",
    "\n",
    "# convert indices to class labels\n",
    "class_labels = np.array(classes)\n",
    "top3_pred_class = class_labels[top3]\n",
    "\n"
   ]
  },
  {
   "cell_type": "code",
   "execution_count": 8,
   "metadata": {},
   "outputs": [],
   "source": [
    "# save prediction\n",
    "with open('predictions.csv', 'w') as f:\n",
    "    f.write('Patient_Id,Prognosis1,Prognosis2,Prognosis3\\n')\n",
    "    for i, pred in enumerate(top3_pred_class):\n",
    "        f.write(f'{i+1},{pred[0]},{pred[1]},{pred[2]}\\n')\n"
   ]
  },
  {
   "cell_type": "code",
   "execution_count": 9,
   "metadata": {},
   "outputs": [
    {
     "data": {
      "text/html": [
       "<div>\n",
       "<style scoped>\n",
       "    .dataframe tbody tr th:only-of-type {\n",
       "        vertical-align: middle;\n",
       "    }\n",
       "\n",
       "    .dataframe tbody tr th {\n",
       "        vertical-align: top;\n",
       "    }\n",
       "\n",
       "    .dataframe thead th {\n",
       "        text-align: right;\n",
       "    }\n",
       "</style>\n",
       "<table border=\"1\" class=\"dataframe\">\n",
       "  <thead>\n",
       "    <tr style=\"text-align: right;\">\n",
       "      <th></th>\n",
       "      <th>Patient_Id</th>\n",
       "      <th>Prognosis1</th>\n",
       "      <th>Prognosis2</th>\n",
       "      <th>Prognosis3</th>\n",
       "    </tr>\n",
       "  </thead>\n",
       "  <tbody>\n",
       "    <tr>\n",
       "      <th>0</th>\n",
       "      <td>1</td>\n",
       "      <td>Dengue</td>\n",
       "      <td>Zika</td>\n",
       "      <td>Plague</td>\n",
       "    </tr>\n",
       "    <tr>\n",
       "      <th>1</th>\n",
       "      <td>2</td>\n",
       "      <td>Dengue</td>\n",
       "      <td>Zika</td>\n",
       "      <td>Plague</td>\n",
       "    </tr>\n",
       "    <tr>\n",
       "      <th>2</th>\n",
       "      <td>3</td>\n",
       "      <td>Dengue</td>\n",
       "      <td>Zika</td>\n",
       "      <td>Plague</td>\n",
       "    </tr>\n",
       "    <tr>\n",
       "      <th>3</th>\n",
       "      <td>4</td>\n",
       "      <td>Dengue</td>\n",
       "      <td>Zika</td>\n",
       "      <td>Plague</td>\n",
       "    </tr>\n",
       "    <tr>\n",
       "      <th>4</th>\n",
       "      <td>5</td>\n",
       "      <td>Dengue</td>\n",
       "      <td>Zika</td>\n",
       "      <td>Plague</td>\n",
       "    </tr>\n",
       "  </tbody>\n",
       "</table>\n",
       "</div>"
      ],
      "text/plain": [
       "   Patient_Id Prognosis1 Prognosis2 Prognosis3\n",
       "0           1     Dengue       Zika     Plague\n",
       "1           2     Dengue       Zika     Plague\n",
       "2           3     Dengue       Zika     Plague\n",
       "3           4     Dengue       Zika     Plague\n",
       "4           5     Dengue       Zika     Plague"
      ]
     },
     "execution_count": 9,
     "metadata": {},
     "output_type": "execute_result"
    }
   ],
   "source": [
    "df_pred = pd.read_csv('predictions.csv')\n",
    "df_pred.head(5)"
   ]
  },
  {
   "cell_type": "code",
   "execution_count": 10,
   "metadata": {},
   "outputs": [],
   "source": [
    "df_pred['prognosis'] = df_pred.apply(lambda x: x['Prognosis1'] + ', ' + x['Prognosis2'] + ', ' + x['Prognosis3'], axis=1)\n",
    "\n",
    "df_pred = df_pred.drop(['Prognosis1', 'Prognosis2', 'Prognosis3'], axis=1)\n"
   ]
  },
  {
   "cell_type": "code",
   "execution_count": 11,
   "metadata": {},
   "outputs": [
    {
     "data": {
      "text/html": [
       "<div>\n",
       "<style scoped>\n",
       "    .dataframe tbody tr th:only-of-type {\n",
       "        vertical-align: middle;\n",
       "    }\n",
       "\n",
       "    .dataframe tbody tr th {\n",
       "        vertical-align: top;\n",
       "    }\n",
       "\n",
       "    .dataframe thead th {\n",
       "        text-align: right;\n",
       "    }\n",
       "</style>\n",
       "<table border=\"1\" class=\"dataframe\">\n",
       "  <thead>\n",
       "    <tr style=\"text-align: right;\">\n",
       "      <th></th>\n",
       "      <th>id</th>\n",
       "      <th>prognosis</th>\n",
       "    </tr>\n",
       "  </thead>\n",
       "  <tbody>\n",
       "    <tr>\n",
       "      <th>0</th>\n",
       "      <td>707</td>\n",
       "      <td>Dengue, Zika, Plague</td>\n",
       "    </tr>\n",
       "    <tr>\n",
       "      <th>1</th>\n",
       "      <td>708</td>\n",
       "      <td>Dengue, Zika, Plague</td>\n",
       "    </tr>\n",
       "    <tr>\n",
       "      <th>2</th>\n",
       "      <td>709</td>\n",
       "      <td>Dengue, Zika, Plague</td>\n",
       "    </tr>\n",
       "    <tr>\n",
       "      <th>3</th>\n",
       "      <td>710</td>\n",
       "      <td>Dengue, Zika, Plague</td>\n",
       "    </tr>\n",
       "    <tr>\n",
       "      <th>4</th>\n",
       "      <td>711</td>\n",
       "      <td>Dengue, Zika, Plague</td>\n",
       "    </tr>\n",
       "  </tbody>\n",
       "</table>\n",
       "</div>"
      ],
      "text/plain": [
       "    id             prognosis\n",
       "0  707  Dengue, Zika, Plague\n",
       "1  708  Dengue, Zika, Plague\n",
       "2  709  Dengue, Zika, Plague\n",
       "3  710  Dengue, Zika, Plague\n",
       "4  711  Dengue, Zika, Plague"
      ]
     },
     "execution_count": 11,
     "metadata": {},
     "output_type": "execute_result"
    }
   ],
   "source": [
    "df_sub['prognosis'] = df_pred['prognosis']\n",
    "df_sub.to_csv('submission.csv',index=False)\n",
    "df_sub.head(5)"
   ]
  },
  {
   "cell_type": "code",
   "execution_count": null,
   "metadata": {},
   "outputs": [],
   "source": []
  }
 ],
 "metadata": {
  "kernelspec": {
   "display_name": "Python 3",
   "language": "python",
   "name": "python3"
  },
  "language_info": {
   "codemirror_mode": {
    "name": "ipython",
    "version": 3
   },
   "file_extension": ".py",
   "mimetype": "text/x-python",
   "name": "python",
   "nbconvert_exporter": "python",
   "pygments_lexer": "ipython3",
   "version": "3.7.3"
  }
 },
 "nbformat": 4,
 "nbformat_minor": 2
}
